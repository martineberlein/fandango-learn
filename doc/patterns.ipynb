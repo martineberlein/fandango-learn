{
 "cells": [
  {
   "metadata": {},
   "cell_type": "markdown",
   "source": "# Patterns in FandangoLearn",
   "id": "ea48a06c8a595277"
  },
  {
   "metadata": {},
   "cell_type": "markdown",
   "source": "In this notebook, we show how you can add more patterns to FandangoLearn.",
   "id": "ede71142286eb934"
  },
  {
   "metadata": {},
   "cell_type": "code",
   "outputs": [],
   "execution_count": null,
   "source": "",
   "id": "535b373334ec6505"
  }
 ],
 "metadata": {
  "kernelspec": {
   "display_name": "Python 3",
   "language": "python",
   "name": "python3"
  },
  "language_info": {
   "codemirror_mode": {
    "name": "ipython",
    "version": 2
   },
   "file_extension": ".py",
   "mimetype": "text/x-python",
   "name": "python",
   "nbconvert_exporter": "python",
   "pygments_lexer": "ipython2",
   "version": "2.7.6"
  }
 },
 "nbformat": 4,
 "nbformat_minor": 5
}
