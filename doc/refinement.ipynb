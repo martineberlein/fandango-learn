{
 "cells": [
  {
   "metadata": {},
   "cell_type": "markdown",
   "source": " # Refining Fandango Constraints",
   "id": "9fe807eb017389af"
  },
  {
   "metadata": {},
   "cell_type": "markdown",
   "source": [
    "As shown previously, FandangoLearn is able to learn constraints that distinguish between failing inputs and passing inputs.\n",
    "However, the constraints learned by FandangoLearn are not always perfect. In this notebook, we show how to refine the constraints learned by FandangoLearn. "
   ],
   "id": "99d1fb2782f7d1e8"
  },
  {
   "metadata": {},
   "cell_type": "markdown",
   "source": [
    "Let's start by learning some constraints using FandangoLearn. We use some initial input for our calculator subject.\n",
    "In the first step, lets load the grammar and the initial input."
   ],
   "id": "3e2bd93b47f9736d"
  },
  {
   "metadata": {
    "ExecuteTime": {
     "end_time": "2024-12-13T09:58:49.063640Z",
     "start_time": "2024-12-13T09:58:48.876769Z"
    }
   },
   "cell_type": "code",
   "source": [
    "from fandango.language.parse import parse_file, Grammar\n",
    "from fandangoLearner.data.input import FandangoInput\n",
    "\n",
    "grammar_file = \"calculator.fan\"\n",
    "grammar, _ = parse_file(grammar_file)\n",
    "\n",
    "assert isinstance(grammar, Grammar), \"Grammar is not loaded correctly\"\n",
    "\n",
    "initial_inputs = {\n",
    "    (\"sqrt(-900)\", True),\n",
    "    (\"sqrt(-10)\", True),\n",
    "    (\"sqrt(0)\", False),\n",
    "    (\"sin(-900)\", False),\n",
    "    (\"sqrt(2)\", False),\n",
    "    (\"cos(10)\", False),\n",
    "}\n",
    "\n",
    "for inp, _ in initial_inputs:\n",
    "    tree = grammar.parse(inp)\n",
    "    assert tree is not None, f\"Failed to parse {inp}\"\n",
    "    \n",
    "initial_inputs = {FandangoInput.from_str(grammar, inp, oracle) for inp, oracle in initial_inputs}"
   ],
   "id": "8b02d9cd1306e06f",
   "outputs": [],
   "execution_count": 6
  },
  {
   "metadata": {},
   "cell_type": "markdown",
   "source": "Like before, we use FandangoLearn to learn constraints that distinguish between passing and failing inputs.",
   "id": "a7d41b33c6a41f4d"
  },
  {
   "metadata": {
    "ExecuteTime": {
     "end_time": "2024-12-13T09:59:04.600732Z",
     "start_time": "2024-12-13T09:58:51.554486Z"
    }
   },
   "cell_type": "code",
   "source": [
    "from fandangoLearner.learner import FandangoLearner\n",
    "\n",
    "learner = FandangoLearner(grammar)\n",
    "learned_constraints = learner.learn_constraints(\n",
    "    initial_inputs,\n",
    ")"
   ],
   "id": "bf83d33301e091ad",
   "outputs": [
    {
     "name": "stderr",
     "output_type": "stream",
     "text": [
      "fandango-learner:INFO: Instantiated patterns: 21\n",
      "fandango-learner:INFO: Found 243 valid conjunctions\n",
      "fandango-learner:INFO: Found 0 valid disjunctions\n"
     ]
    }
   ],
   "execution_count": 7
  },
  {
   "metadata": {
    "ExecuteTime": {
     "end_time": "2024-12-13T09:59:04.605958Z",
     "start_time": "2024-12-13T09:59:04.601954Z"
    }
   },
   "cell_type": "code",
   "source": [
    "for candidate in learner.get_best_candidates():\n",
    "    print(candidate.constraint)"
   ],
   "id": "c06458df1b5a5f80",
   "outputs": [
    {
     "name": "stdout",
     "output_type": "stream",
     "text": [
      "(int(<number>) <= -10.0 and int(<onenine>) != len(str(<arithexp>)))\n",
      "(int(<number>) <= -10.0 and int(<onenine>) != len(str(<start>)))\n",
      "(int(<number>) <= -10.0 and str(<function>) == 'sqrt')\n",
      "(int(<number>) <= -10.0 and int(<onenine>) < len(str(<arithexp>)))\n",
      "(int(<number>) <= -10.0 and int(<onenine>) < len(str(<start>)))\n",
      "((exists <container> in <digit>: int(<container>) <= 0.0) and str(<function>) == 'sqrt')\n",
      "((exists <container> in <digit>: int(<container>) <= 0.0) and str(<function>) == 'sqrt')\n",
      "((exists <container> in <number>: int(<container>) <= -10.0) and int(<onenine>) != len(str(<arithexp>)))\n",
      "((exists <container> in <number>: int(<container>) <= -10.0) and int(<onenine>) != len(str(<start>)))\n",
      "((exists <container> in <number>: int(<container>) <= -10.0) and str(<function>) == 'sqrt')\n",
      "((exists <container> in <number>: int(<container>) <= -10.0) and int(<onenine>) < len(str(<arithexp>)))\n",
      "((exists <container> in <number>: int(<container>) <= -10.0) and int(<onenine>) < len(str(<start>)))\n",
      "(str(<function>) == 'sqrt' and (exists <container> in <digit>: str(<container>) != 0.0))\n",
      "(str(<function>) == 'sqrt' and (exists <container> in <digit>: str(<container>) != 0.0))\n"
     ]
    }
   ],
   "execution_count": 8
  },
  {
   "metadata": {},
   "cell_type": "markdown",
   "source": [
    "We can see that the learned constraints are not perfect. For example, although `str(<function>) == 'sqrt'` is correct, the constraint `int(<number>) <= -10 ` is not yet general enough for distinguishing between passing and failing inputs. Furthermore, FandangoLearn learned additional constraints that, based on the initial inputs, are correct but not necessary for distinguishing between **all** passing and failing inputs.\n",
    "\n",
    "Thus, we need to refine the learned constraints. We can do this by iteratively adding new inputs that are not yet distinguished by the learned constraints."
   ],
   "id": "c43b4526d89debfc"
  },
  {
   "metadata": {},
   "cell_type": "markdown",
   "source": "For each learned constraint, we generate new inputs that are not yet distinguished by the learned constraints. We then add these new inputs to the set of inputs and learn new constraints.",
   "id": "ca1f4751728747fb"
  },
  {
   "metadata": {
    "ExecuteTime": {
     "end_time": "2024-12-13T09:59:04.608774Z",
     "start_time": "2024-12-13T09:59:04.606672Z"
    }
   },
   "cell_type": "code",
   "source": [
    "import math\n",
    "from debugging_framework.input.oracle import OracleResult\n",
    "\n",
    "def calculator_oracle(inp: str) -> OracleResult:\n",
    "    try:\n",
    "        eval(\n",
    "            str(inp), {\"sqrt\": math.sqrt, \"sin\": math.sin, \"cos\": math.cos, \"tan\": math.tan}\n",
    "        )\n",
    "    except ValueError:\n",
    "        return OracleResult.FAILING\n",
    "    return OracleResult.PASSING"
   ],
   "id": "86c755aa0e2c31f3",
   "outputs": [],
   "execution_count": 9
  },
  {
   "metadata": {
    "ExecuteTime": {
     "end_time": "2024-12-13T09:59:04.807374Z",
     "start_time": "2024-12-13T09:59:04.610150Z"
    }
   },
   "cell_type": "code",
   "source": [
    "from fandango.evolution.algorithm import Fandango\n",
    "from fandango.language.tree import DerivationTree\n",
    "\n",
    "more_inputs = set(initial_inputs)\n",
    "for candidate in learner.get_best_candidates():\n",
    "    fandango = Fandango(grammar, [candidate.constraint], desired_solutions=5)\n",
    "    solutions = fandango.evolve()\n",
    "    \n",
    "    for tree in solutions:\n",
    "        more_inputs.add(FandangoInput(tree, calculator_oracle(str(tree))))\n",
    "    \n",
    "assert all(inp.oracle is not None for inp in more_inputs)\n",
    "assert all(isinstance(inp.tree, DerivationTree) for inp in more_inputs)"
   ],
   "id": "525cce8be90711c6",
   "outputs": [],
   "execution_count": 10
  },
  {
   "metadata": {
    "ExecuteTime": {
     "end_time": "2024-12-13T09:59:04.810506Z",
     "start_time": "2024-12-13T09:59:04.808050Z"
    }
   },
   "cell_type": "code",
   "source": [
    "for inp in more_inputs:\n",
    "    print(inp.tree)"
   ],
   "id": "c01df9e9e8035a82",
   "outputs": [
    {
     "name": "stdout",
     "output_type": "stream",
     "text": [
      "sqrt(-8800)\n",
      "tan(-4003)\n",
      "cos(-3900)\n",
      "sqrt(-80)\n",
      "cos(-88151)\n",
      "sqrt(-6700)\n",
      "sqrt(-30091)\n",
      "sqrt(-3900)\n",
      "sin(-400)\n",
      "sqrt(-560030)\n",
      "tan(-69)\n",
      "sqrt(-10598)\n",
      "sqrt(496900)\n",
      "sqrt(-109)\n",
      "sin(-108700)\n",
      "sin(-7401)\n",
      "sqrt(-605000)\n",
      "sin(-360)\n",
      "tan(-600000)\n",
      "sqrt(-4000)\n",
      "tan(-629200)\n",
      "sqrt(-16)\n",
      "tan(-837)\n",
      "sqrt(-4005)\n",
      "sqrt(-40050)\n",
      "sqrt(-4093)\n",
      "cos(-4000)\n",
      "sin(-330440)\n",
      "cos(-50707)\n",
      "sqrt(-8670)\n",
      "sqrt(2700)\n",
      "sqrt(290700)\n",
      "sin(-904000)\n",
      "tan(-8705)\n",
      "cos(-15)\n",
      "cos(-62080)\n",
      "tan(-700)\n",
      "cos(-35360)\n",
      "sqrt(-10)\n",
      "tan(-9000)\n",
      "tan(-45000)\n",
      "sqrt(-580000)\n",
      "sqrt(0)\n",
      "sqrt(-40)\n",
      "cos(-400)\n",
      "sqrt(-45420)\n",
      "cos(-30010)\n",
      "sqrt(-300)\n",
      "sin(-900)\n",
      "sqrt(-220073)\n",
      "sqrt(-8070)\n",
      "cos(-8093)\n",
      "sqrt(-674)\n",
      "cos(10)\n",
      "sqrt(-92430)\n",
      "sqrt(-600804)\n",
      "sin(-53280)\n",
      "sqrt(832450)\n",
      "cos(-305)\n",
      "sqrt(10990)\n",
      "sqrt(-6062)\n",
      "sqrt(-990304)\n",
      "sqrt(600000)\n",
      "cos(-220774)\n",
      "sqrt(-90380)\n",
      "tan(-206168)\n",
      "sqrt(-762002)\n",
      "sin(-621108)\n",
      "cos(-7005)\n",
      "cos(-8000)\n",
      "sqrt(2)\n",
      "tan(-54)\n",
      "sqrt(60)\n",
      "sqrt(-12)\n",
      "sqrt(-603)\n",
      "sqrt(-900)\n"
     ]
    }
   ],
   "execution_count": 11
  },
  {
   "metadata": {
    "ExecuteTime": {
     "end_time": "2024-12-13T09:59:15.755361Z",
     "start_time": "2024-12-13T09:59:15.752292Z"
    }
   },
   "cell_type": "code",
   "source": [
    "from fandangoLearner.learner import NonTerminal\n",
    "relevant_non_terminals = {\n",
    "    NonTerminal(\"<number>\"),\n",
    "    NonTerminal(\"<maybeminus>\"),\n",
    "    NonTerminal(\"<function>\"),\n",
    "}"
   ],
   "id": "d4a61f20c0d4a182",
   "outputs": [],
   "execution_count": 12
  },
  {
   "metadata": {
    "ExecuteTime": {
     "end_time": "2024-12-13T09:59:20.551088Z",
     "start_time": "2024-12-13T09:59:17.025761Z"
    }
   },
   "cell_type": "code",
   "source": [
    "learner = FandangoLearner(grammar)\n",
    "learned_constraints = learner.learn_constraints(\n",
    "    more_inputs, relevant_non_terminals=relevant_non_terminals\n",
    ")"
   ],
   "id": "44dbcb562d351c55",
   "outputs": [
    {
     "name": "stderr",
     "output_type": "stream",
     "text": [
      "fandango-learner:INFO: Instantiated patterns: 21\n",
      "fandango-learner:INFO: Found 10 valid conjunctions\n",
      "fandango-learner:INFO: Found 0 valid disjunctions\n"
     ]
    }
   ],
   "execution_count": 13
  },
  {
   "metadata": {
    "ExecuteTime": {
     "end_time": "2024-12-13T09:59:36.500975Z",
     "start_time": "2024-12-13T09:59:36.497073Z"
    }
   },
   "cell_type": "code",
   "source": [
    "for candidate in learner.get_best_candidates():\n",
    "    print(candidate)"
   ],
   "id": "75cc9c3f223af62f",
   "outputs": [
    {
     "name": "stdout",
     "output_type": "stream",
     "text": [
      "(int(<number>) <= -10.0 and str(<function>) == 'sqrt'), Precision: 1.0, Recall: 1.0 (based on 32 failing and 44 passing inputs)\n",
      "((exists <container> in <number>: int(<container>) <= -10.0) and str(<function>) == 'sqrt'), Precision: 1.0, Recall: 1.0 (based on 32 failing and 44 passing inputs)\n"
     ]
    }
   ],
   "execution_count": 15
  },
  {
   "metadata": {},
   "cell_type": "markdown",
   "source": [
    "By adding new inputs, we were able to reduce the number of constraints significantly.\n",
    "Thus, we were able to exclude constraints that were not precise enough. However, you see that the constraint `int(<number>) <= -10 and str(<function>) == 'sqrt'` is still not perfect. Further refining this constraint by genereating more inputs with this constraint will not help, because we will only generate more inputs that will fulfil this constraint. However, we need to generate inputs that are not covered by this constraint. Inputs such as `sqrt(-2)` or `sqrt(-1)`. Thus we have to negate this constraint."
   ],
   "id": "91405c636023839a"
  },
  {
   "metadata": {
    "ExecuteTime": {
     "end_time": "2024-12-13T10:25:06.200422Z",
     "start_time": "2024-12-13T10:25:06.195435Z"
    }
   },
   "cell_type": "code",
   "source": [
    "from fandango.constraints.base import *\n",
    "from fandango.language.search import RuleSearch\n",
    "\n",
    "class NegationConstraint(Constraint):\n",
    "    \"\"\"A simple constraint to represent logical negations.\"\"\"\n",
    "    def __init__(self, inner_constraint: Constraint, *args, **kwargs):\n",
    "        super().__init__(*args, **kwargs)\n",
    "        self.inner_constraint = inner_constraint\n",
    "\n",
    "    def transform(self, transformer: \"ConstraintTransformer\") -> \"Constraint\":\n",
    "        # Apply the transformer to the inner constraint.\n",
    "        normalized_inner = self.inner_constraint.transform(transformer)\n",
    "        return NegationConstraint(normalized_inner)\n",
    "\n",
    "    def accept(self, visitor: \"ConstraintVisitor\"):\n",
    "        #visitor.visit_expression_constraint(self)\n",
    "        pass\n",
    "\n",
    "    def fitness(\n",
    "            self, tree: DerivationTree, scope: Optional[Dict[NonTerminal, DerivationTree]] = None\n",
    "    ) -> ConstraintFitness:\n",
    "        \"\"\"\n",
    "        Computes the fitness for the negation of the inner constraint.\n",
    "\n",
    "        Negation logic:\n",
    "        - If the inner constraint is fully satisfied, this constraint is fully unsatisfied.\n",
    "        - If the inner constraint is fully unsatisfied, this constraint is fully satisfied.\n",
    "        - Otherwise, the fitness is calculated as the negation of the inner fitness.\n",
    "        \"\"\"\n",
    "        # Evaluate the fitness of the inner constraint\n",
    "        inner_fitness = self.inner_constraint.fitness(tree, scope)\n",
    "\n",
    "        # Negate the fitness results\n",
    "        solved = 1 - inner_fitness.solved\n",
    "        total = inner_fitness.total\n",
    "        success = not inner_fitness.success\n",
    "\n",
    "        return ConstraintFitness(\n",
    "            solved=solved,\n",
    "            total=total,\n",
    "            success=success,\n",
    "            # failing_trees=failing_trees,\n",
    "        )\n",
    "\n",
    "    def __repr__(self):\n",
    "        return f\"~({repr(self.inner_constraint)})\""
   ],
   "id": "368e3121ab11269f",
   "outputs": [],
   "execution_count": 93
  },
  {
   "metadata": {
    "ExecuteTime": {
     "end_time": "2024-12-13T10:25:06.668776Z",
     "start_time": "2024-12-13T10:25:06.666654Z"
    }
   },
   "cell_type": "code",
   "source": [
    "from fandango.constraints.base import ConjunctionConstraint\n",
    "negated_constraint = NegationConstraint(learned_constraints[0].constraint.constraints[0])\n",
    "test_constraint = ConjunctionConstraint([learned_constraints[0].constraint.constraints[1], negated_constraint])"
   ],
   "id": "ab7083197e8c0e6",
   "outputs": [],
   "execution_count": 94
  },
  {
   "metadata": {
    "ExecuteTime": {
     "end_time": "2024-12-13T10:25:06.957621Z",
     "start_time": "2024-12-13T10:25:06.954564Z"
    }
   },
   "cell_type": "code",
   "source": "test_constraint",
   "id": "cf76e66e016880f0",
   "outputs": [
    {
     "data": {
      "text/plain": [
       "(str(<function>) == 'sqrt' and ~(int(<number>) <= -10.0))"
      ]
     },
     "execution_count": 95,
     "metadata": {},
     "output_type": "execute_result"
    }
   ],
   "execution_count": 95
  },
  {
   "metadata": {
    "ExecuteTime": {
     "end_time": "2024-12-13T10:28:07.395333Z",
     "start_time": "2024-12-13T10:28:07.366225Z"
    }
   },
   "cell_type": "code",
   "source": [
    "fandango = Fandango(grammar, [test_constraint], desired_solutions=100)\n",
    "solutions = fandango.evolve()"
   ],
   "id": "129923a2450978fb",
   "outputs": [],
   "execution_count": 103
  },
  {
   "metadata": {
    "ExecuteTime": {
     "end_time": "2024-12-13T10:28:07.688267Z",
     "start_time": "2024-12-13T10:28:07.681650Z"
    }
   },
   "cell_type": "code",
   "source": [
    "negated_inputs = {FandangoInput(tree, calculator_oracle(str(tree))) for tree in solutions}\n",
    "\n",
    "new_failing_inputs = {inp for inp in negated_inputs if inp.oracle == OracleResult.FAILING}\n",
    "for inp in new_failing_inputs:\n",
    "    print(inp.tree)"
   ],
   "id": "b90690c2b3f379b3",
   "outputs": [
    {
     "name": "stdout",
     "output_type": "stream",
     "text": [
      "sqrt(-3)\n",
      "sqrt(-5)\n",
      "sqrt(-9)\n",
      "sqrt(-6)\n"
     ]
    }
   ],
   "execution_count": 104
  },
  {
   "metadata": {
    "ExecuteTime": {
     "end_time": "2024-12-13T10:30:31.093253Z",
     "start_time": "2024-12-13T10:30:27.262858Z"
    }
   },
   "cell_type": "code",
   "source": [
    "learner = FandangoLearner(grammar)\n",
    "learned_constraints = learner.learn_constraints(\n",
    "    more_inputs.union(new_failing_inputs), relevant_non_terminals=relevant_non_terminals\n",
    ")"
   ],
   "id": "b28d689e660d166a",
   "outputs": [
    {
     "name": "stderr",
     "output_type": "stream",
     "text": [
      "fandango-learner:INFO: Instantiated patterns: 21\n",
      "fandango-learner:INFO: Found 10 valid conjunctions\n",
      "fandango-learner:INFO: Found 0 valid disjunctions\n"
     ]
    }
   ],
   "execution_count": 106
  },
  {
   "metadata": {
    "ExecuteTime": {
     "end_time": "2024-12-13T10:30:45.448253Z",
     "start_time": "2024-12-13T10:30:45.444906Z"
    }
   },
   "cell_type": "code",
   "source": [
    "for candidate in learner.get_best_candidates():\n",
    "    print(candidate)"
   ],
   "id": "299b4f4f66116cb8",
   "outputs": [
    {
     "name": "stdout",
     "output_type": "stream",
     "text": [
      "(int(<number>) <= -3.0 and str(<function>) == 'sqrt'), Precision: 1.0, Recall: 1.0 (based on 36 failing and 44 passing inputs)\n",
      "((exists <container> in <number>: int(<container>) <= -3.0) and str(<function>) == 'sqrt'), Precision: 1.0, Recall: 1.0 (based on 36 failing and 44 passing inputs)\n"
     ]
    }
   ],
   "execution_count": 107
  },
  {
   "metadata": {},
   "cell_type": "markdown",
   "source": "We can see that we got much closer to the perfect constraint. However, we still have to refine the constraint further. We can do this by adding more inputs that are not yet distinguished by the learned constraints.",
   "id": "8a7ec57ddeca69c6"
  }
 ],
 "metadata": {
  "kernelspec": {
   "display_name": "Python 3",
   "language": "python",
   "name": "python3"
  },
  "language_info": {
   "codemirror_mode": {
    "name": "ipython",
    "version": 2
   },
   "file_extension": ".py",
   "mimetype": "text/x-python",
   "name": "python",
   "nbconvert_exporter": "python",
   "pygments_lexer": "ipython2",
   "version": "2.7.6"
  }
 },
 "nbformat": 4,
 "nbformat_minor": 5
}
