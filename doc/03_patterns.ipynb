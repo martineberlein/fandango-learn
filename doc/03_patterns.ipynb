{
 "cells": [
  {
   "cell_type": "markdown",
   "id": "ea48a06c8a595277",
   "metadata": {},
   "source": [
    "# Patterns in FandangoLearn"
   ]
  },
  {
   "cell_type": "markdown",
   "id": "ede71142286eb934",
   "metadata": {},
   "source": [
    "In this notebook, we show how you can add more patterns to FandangoLearn."
   ]
  },
  {
   "cell_type": "code",
   "execution_count": null,
   "id": "535b373334ec6505",
   "metadata": {},
   "outputs": [],
   "source": []
  }
 ],
 "metadata": {
  "kernelspec": {
   "display_name": "Python 3 (ipykernel)",
   "language": "python",
   "name": "python3"
  },
  "language_info": {
   "codemirror_mode": {
    "name": "ipython",
    "version": 3
   },
   "file_extension": ".py",
   "mimetype": "text/x-python",
   "name": "python",
   "nbconvert_exporter": "python",
   "pygments_lexer": "ipython3",
   "version": "3.12.3"
  }
 },
 "nbformat": 4,
 "nbformat_minor": 5
}
