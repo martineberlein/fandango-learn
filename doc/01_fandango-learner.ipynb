{
 "cells": [
  {
   "metadata": {},
   "cell_type": "markdown",
   "source": [
    "# Introduction to FandangoLearner\n",
    "\n",
    "This notebook demonstrates how to use **FandangoLearner**, a pattern based approach that automatically learns constraints to explain why a program fails.\n",
    "\n",
    "The core idea of FandangoLearner is to identify patterns in inputs \n",
    "that lead to program errors or unexpected behaviors. Using these patterns, \n",
    "it generates constraints in the Fandango language to help developers \n",
    "understand input-related bugs."
   ],
   "id": "e829c2a03e4e1be6"
  },
  {
   "metadata": {},
   "cell_type": "markdown",
   "source": [
    "## Step 1: Define the Grammar\n",
    "We start by defining the grammar for our input language.\n",
    "This example focuses on arithmetic expressions using trigonometric and square root functions."
   ],
   "id": "708623cc6696f7ec"
  },
  {
   "metadata": {
    "ExecuteTime": {
     "end_time": "2024-12-18T13:00:40.415274Z",
     "start_time": "2024-12-18T13:00:40.341694Z"
    }
   },
   "cell_type": "code",
   "source": [
    "from fandangoLearner.interface.fandango import parse\n",
    "\n",
    "grammar = \"\"\"\n",
    "<start> ::= <arithexp>;\n",
    "<arithexp> ::= <function>\"(\"<number>\")\";\n",
    "<function> ::= \"sqrt\" | \"cos\" | \"sin\" | \"tan\";\n",
    "<number> ::= <maybeminus><onenine><maybedigits> | \"0\";\n",
    "<maybeminus> ::= \"-\" | \"\";\n",
    "<onenine> ::= \"1\" | \"2\" | \"3\" | \"4\" | \"5\" | \"6\" | \"7\" | \"8\" | \"9\";\n",
    "<maybedigits> ::= <digit>*;\n",
    "<digit>::=  \"0\" | <onenine>;\n",
    "\"\"\"\n",
    "\n",
    "grammar, _ = parse(grammar)"
   ],
   "id": "e59679fef6dfc19",
   "outputs": [
    {
     "name": "stderr",
     "output_type": "stream",
     "text": [
      "fandango:INFO: Loading cached spec from /Users/martineberlein/.cache/fandango/1fe7761165c254dbe08a54b0be45348124afabde9c4044364b911e2843edf4e5.pickle\n"
     ]
    }
   ],
   "execution_count": 1
  },
  {
   "metadata": {},
   "cell_type": "markdown",
   "source": [
    "## Step 2: Provide Initial Inputs\n",
    "\n",
    "We supply a set of example inputs along with their expected outcomes (`True` for failure, `False` otherwise).\n"
   ],
   "id": "2beb2e46d07be2f3"
  },
  {
   "metadata": {
    "ExecuteTime": {
     "end_time": "2024-12-18T13:00:42.338419Z",
     "start_time": "2024-12-18T13:00:42.334995Z"
    }
   },
   "cell_type": "code",
   "source": [
    "initial_inputs = {\n",
    "    (\"sqrt(-900)\", True),  # This input causes a failure.\n",
    "    (\"sqrt(-10)\", True),   # Another failure case.\n",
    "    (\"sqrt(0)\", False),    # This input works correctly.\n",
    "    (\"sin(-900)\", False),  # Works correctly.\n",
    "    (\"sqrt(2)\", False),    # Works correctly.\n",
    "    (\"cos(10)\", False),    # Works correctly.\n",
    "}"
   ],
   "id": "8f28dd8190730334",
   "outputs": [],
   "execution_count": 2
  },
  {
   "metadata": {},
   "cell_type": "markdown",
   "source": "Convert inputs to FandangoInput objects",
   "id": "9ec8ccc9b1d5cdf2"
  },
  {
   "metadata": {
    "ExecuteTime": {
     "end_time": "2024-12-18T13:00:44.170148Z",
     "start_time": "2024-12-18T13:00:44.116135Z"
    }
   },
   "cell_type": "code",
   "source": [
    "from fandangoLearner.learner import FandangoInput\n",
    "\n",
    "initial_inputs = {\n",
    "  FandangoInput.from_str(grammar, inp, oracle)\n",
    "  for inp, oracle in initial_inputs\n",
    "}"
   ],
   "id": "c2c465ce2d0721ff",
   "outputs": [
    {
     "name": "stderr",
     "output_type": "stream",
     "text": [
      "fandango:INFO: Loading cached spec from /Users/martineberlein/.cache/fandango/065df5c64e6f755e5019b9f93349218d3f61315e0e2860321ed5cee904b8b49b.pickle\n",
      "fandango:INFO: Loading cached spec from /Users/martineberlein/.cache/fandango/a28b38522d42f5f3dfdde2ea216b7702c8e08d7cf116644410a9ce6de39a6b7a.pickle\n",
      "fandango:INFO: Loading cached spec from /Users/martineberlein/.cache/fandango/8d3f33dda1f32019cd36a55cab0bfdf5901ab115ead2de651925f33ae2a130d0.pickle\n",
      "fandango:INFO: Loading cached spec from /Users/martineberlein/.cache/fandango/086d11bd2785acb84208fd1fec40852b908dad67a63d2e7037e69e24d418f0ae.pickle\n"
     ]
    }
   ],
   "execution_count": 3
  },
  {
   "metadata": {},
   "cell_type": "markdown",
   "source": [
    "### Step 3: Select Relevant Non-Terminals (Optional)\n",
    "\n",
    "We specify the non-terminals in the grammar that are likely related to the program's failure behavior.\n",
    "This step is optional but can help focus the learning process on specific parts of the grammar.\n",
    "Later, we will see that **Avicenna** can automatically learn relevant non-terminals. \n"
   ],
   "id": "8a9b86b3edae1624"
  },
  {
   "metadata": {
    "ExecuteTime": {
     "end_time": "2024-12-18T13:00:48.538421Z",
     "start_time": "2024-12-18T13:00:48.536346Z"
    }
   },
   "cell_type": "code",
   "source": [
    "from fandangoLearner.learner import NonTerminal\n",
    "\n",
    "relevant_non_terminals = {\n",
    "    NonTerminal(\"<number>\"),\n",
    "    NonTerminal(\"<maybeminus>\"),\n",
    "    NonTerminal(\"<function>\"),\n",
    "}"
   ],
   "id": "2b754f60dc3f50f4",
   "outputs": [],
   "execution_count": 4
  },
  {
   "metadata": {},
   "cell_type": "markdown",
   "source": [
    "## Step 4: Learn Constraints\n",
    "\n",
    "Using the `FandangoLearner`, we learn constraints that explain why certain inputs fail.\n"
   ],
   "id": "3544a3931c724154"
  },
  {
   "metadata": {
    "ExecuteTime": {
     "end_time": "2024-12-18T13:00:51.321632Z",
     "start_time": "2024-12-18T13:00:51.132033Z"
    }
   },
   "cell_type": "code",
   "source": [
    "from fandangoLearner.learner import FandangoLearner\n",
    "\n",
    "learner = FandangoLearner(grammar)\n",
    "\n",
    "learned_constraints = learner.learn_constraints(\n",
    "    initial_inputs,\n",
    "    relevant_non_terminals=relevant_non_terminals\n",
    ")"
   ],
   "id": "3243e2cd97506639",
   "outputs": [
    {
     "name": "stderr",
     "output_type": "stream",
     "text": [
      "fandango-learner:INFO: Instantiated patterns: 21\n",
      "fandango-learner:INFO: Filtered positive inputs for learning: 2\n",
      "fandango-learner:INFO: Found 6 valid conjunctions\n",
      "fandango-learner:INFO: Found 0 valid disjunctions\n"
     ]
    }
   ],
   "execution_count": 5
  },
  {
   "metadata": {},
   "cell_type": "markdown",
   "source": [
    "## Step 5: Analyze Results\n",
    "\n",
    "Finally, we analyze the constraints generated by FandangoLearner to understand the root cause of failures.\n"
   ],
   "id": "a92ae313c464f85c"
  },
  {
   "metadata": {
    "ExecuteTime": {
     "end_time": "2024-12-18T13:00:53.532014Z",
     "start_time": "2024-12-18T13:00:53.528138Z"
    }
   },
   "cell_type": "code",
   "source": [
    "for constraint in learner.get_best_candidates():\n",
    "    print(constraint)"
   ],
   "id": "239640a7ada55ae1",
   "outputs": [
    {
     "name": "stdout",
     "output_type": "stream",
     "text": [
      "(str(<function>) == 'sqrt' and int(<number>) <= -10), Precision: 1.0, Recall: 1.0 (based on 2 failing and 4 passing inputs)\n"
     ]
    }
   ],
   "execution_count": 6
  },
  {
   "metadata": {},
   "cell_type": "markdown",
   "source": "The output will show the constraints that best explain the failures in the initial inputs.",
   "id": "6c8418c1e600fdaa"
  },
  {
   "metadata": {},
   "cell_type": "markdown",
   "source": [
    "We can see that the constraint `(str(<function>) == 'sqrt' and int(<number>) <= -10)` explains why the inputs `sqrt(-900)` and `sqrt(-10)` fail.\n",
    "However, this constraint is too specific and does not generalize well to other inputs.\n",
    "Thus, we need a feedback loop that automatically refines these constraints to generate general constraints that captures the essence of the failure.\n",
    "We will use **Avicenna** to provide this feedback loop."
   ],
   "id": "c648ed7060e287cd"
  }
 ],
 "metadata": {
  "kernelspec": {
   "display_name": "Python 3",
   "language": "python",
   "name": "python3"
  },
  "language_info": {
   "codemirror_mode": {
    "name": "ipython",
    "version": 2
   },
   "file_extension": ".py",
   "mimetype": "text/x-python",
   "name": "python",
   "nbconvert_exporter": "python",
   "pygments_lexer": "ipython2",
   "version": "2.7.6"
  }
 },
 "nbformat": 4,
 "nbformat_minor": 5
}
