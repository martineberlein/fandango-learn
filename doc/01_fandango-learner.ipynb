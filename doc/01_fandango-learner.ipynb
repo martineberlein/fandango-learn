{
 "cells": [
  {
   "cell_type": "markdown",
   "id": "e829c2a03e4e1be6",
   "metadata": {},
   "source": [
    "# Introduction to FandangoLearner\n",
    "\n",
    "This notebook demonstrates how to use **FandangoLearner**, a pattern based approach that automatically learns constraints to explain why a program fails.\n",
    "\n",
    "The core idea of FandangoLearner is to identify patterns in inputs \n",
    "that lead to program errors or unexpected behaviors. Using these patterns, \n",
    "it generates constraints in the Fandango language to help developers \n",
    "understand input-related bugs."
   ]
  },
  {
   "cell_type": "markdown",
   "id": "708623cc6696f7ec",
   "metadata": {},
   "source": [
    "## Step 1: Define the Grammar\n",
    "We start by defining the grammar for our input language.\n",
    "This example focuses on arithmetic expressions using trigonometric and square root functions."
   ]
  },
  {
   "cell_type": "code",
   "execution_count": 14,
   "id": "e59679fef6dfc19",
   "metadata": {
    "ExecuteTime": {
     "end_time": "2024-12-18T13:00:40.415274Z",
     "start_time": "2024-12-18T13:00:40.341694Z"
    }
   },
   "outputs": [],
   "source": [
    "from fandangoLearner.interface.fandango import parse\n",
    "\n",
    "grammar = \"\"\"\n",
    "<start> ::= <arithexp>;\n",
    "<arithexp> ::= <function>\"(\"<number>\")\";\n",
    "<function> ::= \"sqrt\" | \"cos\" | \"sin\" | \"tan\";\n",
    "\n",
    "<number> ::= <maybeminus><onenine><maybedigits> | \"0\";\n",
    "<maybeminus> ::= \"-\" | \"\";\n",
    "<onenine> ::= \"1\" | \"2\" | \"3\" | \"4\" | \"5\" | \"6\" | \"7\" | \"8\" | \"9\";\n",
    "<maybedigits> ::= <digit>*;\n",
    "<digit>::=  \"0\" | <onenine>;\n",
    "\"\"\"\n",
    "\n",
    "grammar, _ = parse(grammar)"
   ]
  },
  {
   "cell_type": "markdown",
   "id": "2beb2e46d07be2f3",
   "metadata": {},
   "source": [
    "## Step 2: Provide Initial Inputs\n",
    "\n",
    "We supply a set of example inputs along with their expected outcomes (`True` for failure, `False` otherwise).\n"
   ]
  },
  {
   "cell_type": "code",
   "execution_count": 15,
   "id": "8f28dd8190730334",
   "metadata": {
    "ExecuteTime": {
     "end_time": "2024-12-18T13:00:42.338419Z",
     "start_time": "2024-12-18T13:00:42.334995Z"
    }
   },
   "outputs": [],
   "source": [
    "initial_inputs = {\n",
    "    (\"sqrt(-900)\", True),  # This input causes a failure.\n",
    "    (\"sqrt(-10)\", True),   # Another failure case.\n",
    "    (\"sqrt(0)\", False),    # This input works correctly.\n",
    "    (\"sin(-900)\", False),  # Works correctly.\n",
    "    (\"sqrt(2)\", False),    # Works correctly.\n",
    "    (\"cos(10)\", False),    # Works correctly.\n",
    "}"
   ]
  },
  {
   "cell_type": "markdown",
   "id": "9ec8ccc9b1d5cdf2",
   "metadata": {},
   "source": [
    "Convert inputs to FandangoInput objects"
   ]
  },
  {
   "cell_type": "code",
   "execution_count": 16,
   "id": "c2c465ce2d0721ff",
   "metadata": {
    "ExecuteTime": {
     "end_time": "2024-12-18T13:00:44.170148Z",
     "start_time": "2024-12-18T13:00:44.116135Z"
    }
   },
   "outputs": [],
   "source": [
    "from fandangoLearner.learner import FandangoInput\n",
    "\n",
    "initial_inputs = {\n",
    "  FandangoInput.from_str(grammar, inp, oracle)\n",
    "  for inp, oracle in initial_inputs\n",
    "}"
   ]
  },
  {
   "cell_type": "markdown",
   "id": "8a9b86b3edae1624",
   "metadata": {},
   "source": [
    "### Step 3: Select Relevant Non-Terminals (Optional)\n",
    "\n",
    "We specify the non-terminals in the grammar that are likely related to the program's failure behavior.\n",
    "This step is optional but can help focus the learning process on specific parts of the grammar.\n",
    "Later, we will see that **Avicenna** can automatically learn relevant non-terminals. \n"
   ]
  },
  {
   "cell_type": "code",
   "execution_count": 17,
   "id": "2b754f60dc3f50f4",
   "metadata": {
    "ExecuteTime": {
     "end_time": "2024-12-18T13:00:48.538421Z",
     "start_time": "2024-12-18T13:00:48.536346Z"
    }
   },
   "outputs": [],
   "source": [
    "from fandangoLearner.learner import NonTerminal\n",
    "\n",
    "relevant_non_terminals = {\n",
    "    NonTerminal(\"<number>\"),\n",
    "    NonTerminal(\"<maybeminus>\"),\n",
    "    NonTerminal(\"<function>\"),\n",
    "}"
   ]
  },
  {
   "cell_type": "markdown",
   "id": "3544a3931c724154",
   "metadata": {},
   "source": [
    "## Step 4: Learn Constraints\n",
    "\n",
    "Using the `FandangoLearner`, we learn constraints that explain why certain inputs fail.\n"
   ]
  },
  {
   "cell_type": "code",
   "execution_count": 18,
   "id": "3243e2cd97506639",
   "metadata": {
    "ExecuteTime": {
     "end_time": "2024-12-18T13:00:51.321632Z",
     "start_time": "2024-12-18T13:00:51.132033Z"
    }
   },
   "outputs": [
    {
     "name": "stderr",
     "output_type": "stream",
     "text": [
      "fandango-learner:INFO: Instantiated patterns: 21\n",
      "fandango-learner:INFO: Filtered positive inputs for learning: 2\n",
      "fandango-learner:INFO: Found 6 valid conjunctions\n",
      "fandango-learner:INFO: Found 0 valid disjunctions\n"
     ]
    }
   ],
   "source": [
    "from fandangoLearner.learner import FandangoLearner\n",
    "\n",
    "learner = FandangoLearner(grammar)\n",
    "\n",
    "learned_constraints = learner.learn_constraints(\n",
    "    initial_inputs,\n",
    "    relevant_non_terminals=relevant_non_terminals\n",
    ")"
   ]
  },
  {
   "cell_type": "markdown",
   "id": "a92ae313c464f85c",
   "metadata": {},
   "source": [
    "## Step 5: Analyze Results\n",
    "\n",
    "Finally, we analyze the constraints generated by FandangoLearner to understand the root cause of failures.\n"
   ]
  },
  {
   "cell_type": "code",
   "execution_count": 19,
   "id": "239640a7ada55ae1",
   "metadata": {
    "ExecuteTime": {
     "end_time": "2024-12-18T13:00:53.532014Z",
     "start_time": "2024-12-18T13:00:53.528138Z"
    }
   },
   "outputs": [
    {
     "name": "stdout",
     "output_type": "stream",
     "text": [
      "(str(<function>) == 'sqrt' and int(<number>) <= -10), Precision: 1.0, Recall: 1.0 (based on 2 failing and 4 passing inputs)\n"
     ]
    }
   ],
   "source": [
    "for constraint in learner.get_best_candidates():\n",
    "    print(constraint)"
   ]
  },
  {
   "cell_type": "markdown",
   "id": "6c8418c1e600fdaa",
   "metadata": {},
   "source": [
    "The output will show the constraints that best explain the failures in the initial inputs."
   ]
  },
  {
   "cell_type": "markdown",
   "id": "c648ed7060e287cd",
   "metadata": {},
   "source": [
    "We can see that the constraint `(str(<function>) == 'sqrt' and int(<number>) <= -10)` explains why the inputs `sqrt(-900)` and `sqrt(-10)` fail.\n",
    "However, this constraint is too specific and does not generalize well to other inputs.\n",
    "Thus, we need a feedback loop that automatically refines these constraints to generate general constraints that captures the essence of the failure.\n",
    "We will use **Avicenna** to provide this feedback loop."
   ]
  }
 ],
 "metadata": {
  "kernelspec": {
   "display_name": "Python 3 (ipykernel)",
   "language": "python",
   "name": "python3"
  },
  "language_info": {
   "codemirror_mode": {
    "name": "ipython",
    "version": 3
   },
   "file_extension": ".py",
   "mimetype": "text/x-python",
   "name": "python",
   "nbconvert_exporter": "python",
   "pygments_lexer": "ipython3",
   "version": "3.12.3"
  }
 },
 "nbformat": 4,
 "nbformat_minor": 5
}
