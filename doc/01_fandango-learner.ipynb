{
 "cells": [
  {
   "cell_type": "markdown",
   "id": "e829c2a03e4e1be6",
   "metadata": {},
   "source": [
    "# Introduction to FandangoLearner\n",
    "\n",
    "This notebook demonstrates how to use **FandangoLearner**, a pattern based approach that automatically learns constraints to explain why a program fails.\n",
    "\n",
    "The core idea of FandangoLearner is to identify patterns in inputs \n",
    "that lead to program errors or unexpected behaviors. Using these patterns, \n",
    "it generates constraints in the Fandango language to help developers \n",
    "understand input-related bugs."
   ]
  },
  {
   "cell_type": "markdown",
   "id": "708623cc6696f7ec",
   "metadata": {},
   "source": [
    "## Step 1: Define the Grammar\n",
    "We start by defining the grammar for our input language.\n",
    "This example focuses on arithmetic expressions using trigonometric and square root functions."
   ]
  },
  {
   "cell_type": "code",
   "id": "e59679fef6dfc19",
   "metadata": {
    "ExecuteTime": {
     "end_time": "2025-06-02T12:00:17.378054Z",
     "start_time": "2025-06-02T12:00:16.626813Z"
    }
   },
   "source": [
    "from fdlearn.interface.fandango import parse_contents\n",
    "\n",
    "grammar = \"\"\"\n",
    "<start> ::= <arithexp>;\n",
    "<arithexp> ::= <function>\"(\"<number>\")\";\n",
    "<function> ::= \"sqrt\" | \"cos\" | \"sin\" | \"tan\";\n",
    "\n",
    "<number> ::= <maybeminus><onenine><maybedigits> | \"0\";\n",
    "<maybeminus> ::= \"-\" | \"\";\n",
    "<onenine> ::= \"1\" | \"2\" | \"3\" | \"4\" | \"5\" | \"6\" | \"7\" | \"8\" | \"9\";\n",
    "<maybedigits> ::= <digit>*;\n",
    "<digit>::=  \"0\" | <onenine>;\n",
    "\"\"\"\n",
    "\n",
    "grammar, _ = parse_contents(grammar)"
   ],
   "outputs": [],
   "execution_count": 1
  },
  {
   "cell_type": "markdown",
   "id": "2beb2e46d07be2f3",
   "metadata": {},
   "source": [
    "## Step 2: Provide Initial Inputs\n",
    "\n",
    "We supply a set of example inputs along with their expected outcomes (`True` for failure, `False` otherwise).\n"
   ]
  },
  {
   "cell_type": "code",
   "id": "8f28dd8190730334",
   "metadata": {
    "ExecuteTime": {
     "end_time": "2025-06-02T12:00:17.392448Z",
     "start_time": "2025-06-02T12:00:17.389957Z"
    }
   },
   "source": [
    "initial_inputs = {\n",
    "    (\"sqrt(-900)\", True),  # This input causes a failure.\n",
    "    (\"sqrt(-10)\", True),   # Another failure case.\n",
    "    (\"sqrt(0)\", False),    # This input works correctly.\n",
    "    (\"sin(-900)\", False),  # Works correctly.\n",
    "    (\"sqrt(2)\", False),    # Works correctly.\n",
    "    (\"cos(10)\", False),    # Works correctly.\n",
    "}"
   ],
   "outputs": [],
   "execution_count": 2
  },
  {
   "cell_type": "markdown",
   "id": "9ec8ccc9b1d5cdf2",
   "metadata": {},
   "source": [
    "Convert inputs to FandangoInput objects"
   ]
  },
  {
   "cell_type": "code",
   "id": "c2c465ce2d0721ff",
   "metadata": {
    "ExecuteTime": {
     "end_time": "2025-06-02T12:00:19.857573Z",
     "start_time": "2025-06-02T12:00:19.827044Z"
    }
   },
   "source": [
    "from fdlearn.learner import FandangoInput\n",
    "\n",
    "initial_inputs = {\n",
    "  FandangoInput.from_str(grammar, inp, oracle)\n",
    "  for inp, oracle in initial_inputs\n",
    "}"
   ],
   "outputs": [],
   "execution_count": 3
  },
  {
   "cell_type": "markdown",
   "id": "8a9b86b3edae1624",
   "metadata": {},
   "source": [
    "### Step 3: Select Relevant Non-Terminals (Optional)\n",
    "\n",
    "We specify the non-terminals in the grammar that are likely related to the program's failure behavior.\n",
    "This step is optional but can help focus the learning process on specific parts of the grammar.\n",
    "Later, we will see that **Avicenna** can automatically learn relevant non-terminals. \n"
   ]
  },
  {
   "cell_type": "code",
   "id": "2b754f60dc3f50f4",
   "metadata": {
    "ExecuteTime": {
     "end_time": "2025-06-02T12:00:20.825803Z",
     "start_time": "2025-06-02T12:00:20.822081Z"
    }
   },
   "source": [
    "from fdlearn.learner import NonTerminal\n",
    "\n",
    "relevant_non_terminals = {\n",
    "    NonTerminal(\"<number>\"),\n",
    "    NonTerminal(\"<maybeminus>\"),\n",
    "    NonTerminal(\"<function>\"),\n",
    "}"
   ],
   "outputs": [],
   "execution_count": 4
  },
  {
   "cell_type": "markdown",
   "id": "3544a3931c724154",
   "metadata": {},
   "source": [
    "## Step 4: Learn Constraints\n",
    "\n",
    "Using the `FandangoLearner`, we learn constraints that explain why certain inputs fail.\n"
   ]
  },
  {
   "cell_type": "code",
   "id": "3243e2cd97506639",
   "metadata": {
    "ExecuteTime": {
     "end_time": "2025-06-02T12:00:21.818359Z",
     "start_time": "2025-06-02T12:00:21.776760Z"
    }
   },
   "source": [
    "from fdlearn.learner import FandangoLearner\n",
    "\n",
    "learner = FandangoLearner(grammar)\n",
    "\n",
    "learned_constraints = learner.learn_constraints(\n",
    "    initial_inputs,\n",
    "    relevant_non_terminals=relevant_non_terminals\n",
    ")"
   ],
   "outputs": [
    {
     "name": "stderr",
     "output_type": "stream",
     "text": [
      "fandango-learner:INFO: Instantiated patterns: 22\n",
      "fandango-learner:INFO: Filtered positive inputs for learning: 2\n",
      "fandango-learner:INFO: Evaluating 147 candidates\n",
      "fandango-learner:INFO: Calculating combinations for 26 candidates\n",
      "fandango-learner:INFO: Found 48 valid conjunctions\n",
      "fandango-learner:INFO: Learned 9 constraint(s) that meet(s) the criteria\n"
     ]
    }
   ],
   "execution_count": 5
  },
  {
   "cell_type": "markdown",
   "id": "a92ae313c464f85c",
   "metadata": {},
   "source": [
    "## Step 5: Analyze Results\n",
    "\n",
    "Finally, we analyze the constraints generated by FandangoLearner to understand the root cause of failures.\n"
   ]
  },
  {
   "cell_type": "code",
   "id": "239640a7ada55ae1",
   "metadata": {
    "ExecuteTime": {
     "end_time": "2025-06-02T12:00:24.528766Z",
     "start_time": "2025-06-02T12:00:24.523699Z"
    }
   },
   "source": [
    "for candidate in learner.get_best_candidates():\n",
    "    print(candidate.constraint)"
   ],
   "outputs": [
    {
     "name": "stdout",
     "output_type": "stream",
     "text": [
      "(int(<number>) <= -10 and str(<function>) == 'sqrt')\n",
      "((exists <elem> in <maybeminus>: '-' in <elem>) and str(<function>) == 'sqrt')\n",
      "((exists <elem> in <function>: str(<elem>) == 'sqrt') and (exists <elem> in <maybeminus>: str(<elem>) == '-'))\n",
      "((exists <elem> in <function>: str(<elem>) == 'sqrt') and (exists <elem> in <maybeminus>: '-' in <elem>))\n",
      "((exists <elem> in <function>: 'sqrt' in <elem>) and (exists <elem> in <maybeminus>: '-' in <elem>))\n",
      "((exists <elem> in <function>: str(<elem>) == 'sqrt') and int(<number>) <= -10)\n",
      "((exists <elem> in <maybeminus>: str(<elem>) == '-') and str(<function>) == 'sqrt')\n",
      "((exists <elem> in <function>: 'sqrt' in <elem>) and (exists <elem> in <maybeminus>: str(<elem>) == '-'))\n",
      "((exists <elem> in <function>: 'sqrt' in <elem>) and int(<number>) <= -10)\n"
     ]
    }
   ],
   "execution_count": 6
  },
  {
   "cell_type": "markdown",
   "id": "6c8418c1e600fdaa",
   "metadata": {},
   "source": [
    "The output will show the constraints that best explain the failures in the initial inputs."
   ]
  },
  {
   "cell_type": "markdown",
   "id": "c648ed7060e287cd",
   "metadata": {},
   "source": [
    "We can see that the constraint `(str(<function>) == 'sqrt' and int(<number>) <= -10)` explains why the inputs `sqrt(-900)` and `sqrt(-10)` fail.\n",
    "However, this constraint is too specific and does not generalize well to other inputs.\n",
    "Thus, we need a feedback loop that automatically refines these constraints to generate general constraints that captures the essence of the failure.\n",
    "We will use **Avicenna** to provide this feedback loop."
   ]
  }
 ],
 "metadata": {
  "kernelspec": {
   "display_name": "fdlearn",
   "language": "python",
   "name": "fdlearn"
  },
  "language_info": {
   "codemirror_mode": {
    "name": "ipython",
    "version": 3
   },
   "file_extension": ".py",
   "mimetype": "text/x-python",
   "name": "python",
   "nbconvert_exporter": "python",
   "pygments_lexer": "ipython3",
   "version": "3.12.3"
  }
 },
 "nbformat": 4,
 "nbformat_minor": 5
}
