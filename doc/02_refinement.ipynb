{
 "cells": [
  {
   "cell_type": "markdown",
   "id": "964b850e-ea72-4047-b1ab-7e700d51daeb",
   "metadata": {},
   "source": [
    "# Refining Fandango Constraints using Avicenna\n",
    "\n",
    "In our previous exploration, we saw how **FandangoLearn** could derive constraints that separate failing inputs from passing inputs for a particular program behavior (in this case, a simple calculator-like subject using functions like `sqrt`, `sin`, `cos`, and `tan`). However, what we learned was only a first draft. The initial constraints are often too crude, missing nuances that accurately capture the essence of failing conditions.\n",
    "\n",
    "**Why do we need refinement?** Imagine you’re trying to understand why certain inputs cause failures. You start with a set of initial inputs, such as sqrt(-900) or sqrt(-10). However, in the previous chapter, we have shown that based on a set of initial inputs, we are not able to learn perfect constraints. The constraint `str(<function>) == 'sqrt' and int(<number>) <= -10` fails to capture inputs like `sqt(-4)`. Thus, we need to refine them!\n",
    "\n",
    "A refinement loop allows us to escape these early approximations. It works like this:\n",
    "\n",
    "1. **Initial Learning:** We give **FandangoLearn** a set of known inputs, both failing and passing.\n",
    "2. **Initial Constraints:** FandangoLearn tries to find patterns that distinguish these failing inputs from passing ones. Based on a limited input set, it might find something too restrictive, like a rule that only matches failures when `int(<number>) <= -10`.\n",
    "3. **Challenge the Constraints:** We generate new inputs that are not yet distinguished by these constraints. This puts pressure on the current constraints to “fail,” exposing their weaknesses. For instance, if we test `sqrt(-6)`, we see it fails too, even though the constraint said `<= -10`.\n",
    "4. **Refine:** Incorporate these new, challenging inputs back into the learning process, allowing **FandangoLearn** to home in on more accurate constraints. With enough rounds, we transition from rough guesses to finer, more representative constraints.\n",
    "\n",
    "In essence, the refinement loop is a conversation between the learner and the inputs: the constraints try to explain failures, while new inputs (often automatically generated) poke holes in that explanation. Each round makes the constraints more accurate, relevant, and minimal."
   ]
  },
  {
   "cell_type": "markdown",
   "id": "ae764bd9-13d9-47f5-ad2b-5fcc54a80ac3",
   "metadata": {},
   "source": [
    "## Motivation"
   ]
  },
  {
   "cell_type": "code",
   "execution_count": 1,
   "id": "f8d8f886-c410-473d-be3b-62621453c20f",
   "metadata": {},
   "outputs": [],
   "source": [
    "import random\n",
    "random.seed(3)"
   ]
  },
  {
   "cell_type": "markdown",
   "id": "32035fbe-a17e-4ff0-9d3b-4e6acdd88049",
   "metadata": {},
   "source": [
    "Let’s walk through an example to illustrate this process. We start with some initial constraints learned from a small set of inputs, show their limitations, then refine them by generating new inputs and guiding **FandangoLearn** to more precise constraints."
   ]
  },
  {
   "cell_type": "code",
   "execution_count": 2,
   "id": "46c6d8d2-d232-4698-bb42-ce9b9986ed2b",
   "metadata": {},
   "outputs": [],
   "source": [
    "from fandangoLearner.interface.fandango import parse_file\n",
    "\n",
    "from fandango.language.parse import Grammar\n",
    "from fandangoLearner.data.input import FandangoInput\n",
    "\n",
    "grammar_file = \"calculator.fan\"\n",
    "grammar, _ = parse_file(grammar_file)\n",
    "assert isinstance(grammar, Grammar), \"Grammar is not loaded correctly\"\n",
    "\n",
    "# Our initial input set: a mix of passing and failing cases\n",
    "initial_inputs = {\n",
    "    (\"sqrt(-900)\", True),\n",
    "    (\"sqrt(-10)\", True),\n",
    "    (\"sqrt(0)\", False),\n",
    "    (\"sin(-900)\", False),\n",
    "    (\"sqrt(2)\", False),\n",
    "    (\"cos(10)\", False),\n",
    "}\n",
    "\n",
    "# Parse and prepare the initial inputs\n",
    "for inp, _ in initial_inputs:\n",
    "    tree = grammar.parse(inp)\n",
    "    assert tree is not None, f\"Failed to parse {inp}\"\n",
    "\n",
    "initial_inputs = {FandangoInput.from_str(grammar, inp, oracle) for inp, oracle in initial_inputs}"
   ]
  },
  {
   "cell_type": "markdown",
   "id": "a7d41b33c6a41f4d",
   "metadata": {},
   "source": [
    "At this stage, we apply **FandangoLearn** to these initial inputs. We’ll see it produce some candidate constraints. These constraints try to mark the difference between failing and passing, but they might overreach or miss edge cases."
   ]
  },
  {
   "cell_type": "code",
   "execution_count": 3,
   "id": "bf83d33301e091ad",
   "metadata": {
    "ExecuteTime": {
     "end_time": "2024-12-13T09:59:04.600732Z",
     "start_time": "2024-12-13T09:58:51.554486Z"
    }
   },
   "outputs": [
    {
     "name": "stderr",
     "output_type": "stream",
     "text": [
      "fandango-learner:INFO: Instantiated patterns: 18\n",
      "fandango-learner:INFO: Filtered positive inputs for learning: 2\n",
      "fandango-learner:INFO: Found 12 valid conjunctions\n"
     ]
    }
   ],
   "source": [
    "from fandangoLearner.learner import FandangoLearner\n",
    "from fandangoLearner.learner import NonTerminal\n",
    "relevant_non_terminals = {\n",
    "    NonTerminal(\"<number>\"),\n",
    "    NonTerminal(\"<maybeminus>\"),\n",
    "    NonTerminal(\"<function>\"),\n",
    "}\n",
    "\n",
    "learner = FandangoLearner(grammar)\n",
    "learned_constraints = learner.learn_constraints(initial_inputs, relevant_non_terminals)"
   ]
  },
  {
   "cell_type": "markdown",
   "id": "f5f1af2a-2791-4df2-bd38-c5901c06d89c",
   "metadata": {},
   "source": [
    "We can review the best candidate constraints. They might look clever, but they could be overspecialized or simply too long-winded, pinpointing details that do not generalize (like focusing on “length of a string” or `<= -10` specifically)."
   ]
  },
  {
   "cell_type": "code",
   "execution_count": 4,
   "id": "c06458df1b5a5f80",
   "metadata": {
    "ExecuteTime": {
     "end_time": "2024-12-13T09:59:04.605958Z",
     "start_time": "2024-12-13T09:59:04.601954Z"
    }
   },
   "outputs": [
    {
     "name": "stdout",
     "output_type": "stream",
     "text": [
      "(int(<number>) <= -10 and str(<function>) == 'sqrt'), Precision: 1.0, Recall: 1.0 (based on 2 failing and 4 passing inputs)\n"
     ]
    }
   ],
   "source": [
    "for candidate in learner.get_best_candidates():\n",
    "    print(candidate)"
   ]
  },
  {
   "cell_type": "markdown",
   "id": "c43b4526d89debfc",
   "metadata": {},
   "source": [
    "You can see constraints that combine properties like int(<number>) <= -10.0 with checks like str(<function>) == 'sqrt'. It’s a start, but we need something more generally true. Right now, the constraints are based only on the inputs we gave. To test whether they truly reflect all failing conditions, we must challenge them with new inputs."
   ]
  },
  {
   "cell_type": "markdown",
   "id": "ca1f4751728747fb",
   "metadata": {},
   "source": [
    "Next, we refine by adding new inputs that are generated to stretch or break these constraints. By doing this, we force the learner to confront gaps in its understanding."
   ]
  },
  {
   "cell_type": "code",
   "execution_count": 5,
   "id": "86c755aa0e2c31f3",
   "metadata": {
    "ExecuteTime": {
     "end_time": "2024-12-13T09:59:04.608774Z",
     "start_time": "2024-12-13T09:59:04.606672Z"
    }
   },
   "outputs": [],
   "source": [
    "import math\n",
    "from debugging_framework.input.oracle import OracleResult\n",
    "\n",
    "def calculator_oracle(inp: str) -> OracleResult:\n",
    "    try:\n",
    "        eval(\n",
    "            str(inp), {\"sqrt\": math.sqrt, \"sin\": math.sin, \"cos\": math.cos, \"tan\": math.tan}\n",
    "        )\n",
    "    except ValueError:\n",
    "        # If evaluation fails due to a domain error, we say it FAILS.\n",
    "        return OracleResult.FAILING\n",
    "    return OracleResult.PASSING"
   ]
  },
  {
   "cell_type": "markdown",
   "id": "778fa62d-ff51-4525-b515-44951f0ff076",
   "metadata": {},
   "source": [
    "We use a search-based approach to create more inputs that match—or fail to be distinguished by—the current constraints. This helps us unearth hidden assumptions."
   ]
  },
  {
   "cell_type": "code",
   "execution_count": 6,
   "id": "525cce8be90711c6",
   "metadata": {
    "ExecuteTime": {
     "end_time": "2024-12-13T09:59:04.807374Z",
     "start_time": "2024-12-13T09:59:04.610150Z"
    }
   },
   "outputs": [
    {
     "name": "stdout",
     "output_type": "stream",
     "text": [
      "(int(<number>) <= -10 and str(<function>) == 'sqrt'), Precision: 1.0, Recall: 1.0 (based on 2 failing and 4 passing inputs)\n"
     ]
    }
   ],
   "source": [
    "from fandango.evolution.algorithm import Fandango\n",
    "from fandango.language.tree import DerivationTree\n",
    "\n",
    "more_inputs = set(initial_inputs)\n",
    "for candidate in learner.get_best_candidates():\n",
    "    print(candidate)\n",
    "    fandango = Fandango(grammar, [candidate.constraint], desired_solutions=10)\n",
    "    solutions = fandango.evolve()\n",
    "    for tree in solutions:\n",
    "        more_inputs.add(FandangoInput(tree, calculator_oracle(str(tree))))\n",
    "\n",
    "assert all(inp.oracle is not None for inp in more_inputs)\n",
    "assert all(isinstance(inp.tree, DerivationTree) for inp in more_inputs)"
   ]
  },
  {
   "cell_type": "markdown",
   "id": "9a613e9e-8282-4158-b50c-b5e7bf7f99dd",
   "metadata": {},
   "source": [
    "Inspecting these newly generated inputs, we see a broader range: negative numbers of various magnitudes, different functions, etc. This variety challenges the initial constraints."
   ]
  },
  {
   "cell_type": "code",
   "execution_count": 7,
   "id": "c01df9e9e8035a82",
   "metadata": {
    "ExecuteTime": {
     "end_time": "2024-12-13T09:59:04.810506Z",
     "start_time": "2024-12-13T09:59:04.808050Z"
    }
   },
   "outputs": [
    {
     "name": "stdout",
     "output_type": "stream",
     "text": [
      "sqrt(-1990) True\n",
      "sqrt(-252000) True\n",
      "sqrt(-900) True\n",
      "sqrt(-70) True\n",
      "sin(-900) False\n",
      "sqrt(-191) True\n",
      "sqrt(2) False\n",
      "sqrt(-85792) True\n",
      "sqrt(-31000) True\n",
      "sqrt(-10) True\n",
      "sqrt(0) False\n",
      "sqrt(-304) True\n",
      "sqrt(-203400) True\n",
      "sqrt(-33) True\n",
      "cos(10) False\n"
     ]
    }
   ],
   "source": [
    "for inp in more_inputs:\n",
    "    print(inp.tree, candidate.constraint.check(inp))"
   ]
  },
  {
   "cell_type": "markdown",
   "id": "3ed783de-5090-40c6-8865-ac1942e38bfe",
   "metadata": {},
   "source": [
    "We’ll next narrow down which parts of the grammar are truly relevant to failing conditions. Perhaps only certain non-terminals (like `<function>` and `<number>`) matter. This pruning leads to simpler, more coherent constraints."
   ]
  },
  {
   "cell_type": "code",
   "execution_count": 8,
   "id": "d4a61f20c0d4a182",
   "metadata": {
    "ExecuteTime": {
     "end_time": "2024-12-13T09:59:15.755361Z",
     "start_time": "2024-12-13T09:59:15.752292Z"
    }
   },
   "outputs": [
    {
     "name": "stderr",
     "output_type": "stream",
     "text": [
      "fandango-learner:INFO: Instantiated patterns: 18\n",
      "fandango-learner:INFO: Filtered positive inputs for learning: 5\n",
      "fandango-learner:INFO: Found 25 valid conjunctions\n"
     ]
    },
    {
     "name": "stdout",
     "output_type": "stream",
     "text": [
      "(int(<number>) <= -10 and str(<function>) == 'sqrt')\n"
     ]
    }
   ],
   "source": [
    "from fandangoLearner.learner import NonTerminal\n",
    "relevant_non_terminals = {\n",
    "    NonTerminal(\"<number>\"),\n",
    "    NonTerminal(\"<maybeminus>\"),\n",
    "    NonTerminal(\"<function>\"),\n",
    "}\n",
    "\n",
    "learner = FandangoLearner(grammar)\n",
    "learned_constraints = learner.learn_constraints(more_inputs, relevant_non_terminals=relevant_non_terminals)\n",
    "\n",
    "for candidate in learner.get_best_candidates():\n",
    "    print(candidate.constraint)"
   ]
  },
  {
   "cell_type": "markdown",
   "id": "307732f1-54f1-4db3-8df7-215a6da79601",
   "metadata": {},
   "source": [
    "Now the constraints are simpler, but still not perfect. They might say something like: int(\\<number>) <= -10.0 and str(\\<function>) == 'sqrt'. Sure, it’s closer, but we know that not only sqrt(-10), but also sqrt(-4) fails. The constraint is too strict in one sense (-10 is arbitrary) and not broad enough in another. To fix this, we can push even further."
   ]
  },
  {
   "cell_type": "markdown",
   "id": "2330a60a-b22f-4fc2-be23-55096a0a271e",
   "metadata": {},
   "source": [
    "At this point, we try something more radical: we negate part of the learned constraint to find inputs that fail the opposite condition. This is like saying, “If you think it has to be <= -10 for sqrt, what if we look for sqrt with numbers greater than -10?” This trick helps the learner step outside its current framing and find a more general rule."
   ]
  },
  {
   "cell_type": "markdown",
   "id": "91405c636023839a",
   "metadata": {},
   "source": [
    "By adding new inputs, we were able to reduce the number of constraints significantly.\n",
    "Thus, we were able to exclude constraints that were not precise enough. However, you see that the constraint `int(<number>) <= -10 and str(<function>) == 'sqrt'` is still not perfect. Further refining this constraint by genereating more inputs with this constraint will not help, because we will only generate more inputs that will fulfil this constraint. However, we need to generate inputs that are not covered by this constraint. Inputs such as `sqrt(-2)` or `sqrt(-1)`. Thus we have to negate this constraint."
   ]
  },
  {
   "cell_type": "code",
   "execution_count": 9,
   "id": "368e3121ab11269f",
   "metadata": {
    "ExecuteTime": {
     "end_time": "2024-12-13T10:25:06.200422Z",
     "start_time": "2024-12-13T10:25:06.195435Z"
    }
   },
   "outputs": [],
   "source": [
    "from fandango.constraints.base import *\n",
    "from fandango.language.search import RuleSearch\n",
    "\n",
    "class NegationConstraint(Constraint):\n",
    "    \"\"\"A simple constraint to represent logical negations.\"\"\"\n",
    "    def __init__(self, inner_constraint: Constraint, *args, **kwargs):\n",
    "        super().__init__(*args, **kwargs)\n",
    "        self.inner_constraint = inner_constraint\n",
    "\n",
    "    def transform(self, transformer: \"ConstraintTransformer\") -> \"Constraint\":\n",
    "        # Apply the transformer to the inner constraint.\n",
    "        normalized_inner = self.inner_constraint.transform(transformer)\n",
    "        return NegationConstraint(normalized_inner)\n",
    "\n",
    "    def accept(self, visitor: \"ConstraintVisitor\"):\n",
    "        #visitor.visit_expression_constraint(self)\n",
    "        pass\n",
    "\n",
    "    def fitness(\n",
    "            self, tree: DerivationTree, scope: Optional[Dict[NonTerminal, DerivationTree]] = None\n",
    "    ) -> ConstraintFitness:\n",
    "        \"\"\"\n",
    "        Computes the fitness for the negation of the inner constraint.\n",
    "\n",
    "        Negation logic:\n",
    "        - If the inner constraint is fully satisfied, this constraint is fully unsatisfied.\n",
    "        - If the inner constraint is fully unsatisfied, this constraint is fully satisfied.\n",
    "        - Otherwise, the fitness is calculated as the negation of the inner fitness.\n",
    "        \"\"\"\n",
    "        # Evaluate the fitness of the inner constraint\n",
    "        inner_fitness = self.inner_constraint.fitness(tree, scope)\n",
    "\n",
    "        # Negate the fitness results\n",
    "        solved = 1 - inner_fitness.solved\n",
    "        total = inner_fitness.total\n",
    "        success = not inner_fitness.success\n",
    "\n",
    "        return ConstraintFitness(\n",
    "            solved=solved,\n",
    "            total=total,\n",
    "            success=success,\n",
    "            # failing_trees=failing_trees,\n",
    "        )\n",
    "\n",
    "    def __repr__(self):\n",
    "        return f\"~({repr(self.inner_constraint)})\""
   ]
  },
  {
   "cell_type": "code",
   "execution_count": 10,
   "id": "ab7083197e8c0e6",
   "metadata": {
    "ExecuteTime": {
     "end_time": "2024-12-13T10:25:06.668776Z",
     "start_time": "2024-12-13T10:25:06.666654Z"
    }
   },
   "outputs": [],
   "source": [
    "from fandango.constraints.base import ConjunctionConstraint\n",
    "negated_constraint = NegationConstraint(learned_constraints[0].constraint.constraints[0])\n",
    "test_constraint = ConjunctionConstraint([negated_constraint, learned_constraints[0].constraint.constraints[1]])"
   ]
  },
  {
   "cell_type": "code",
   "execution_count": 11,
   "id": "cf76e66e016880f0",
   "metadata": {
    "ExecuteTime": {
     "end_time": "2024-12-13T10:25:06.957621Z",
     "start_time": "2024-12-13T10:25:06.954564Z"
    }
   },
   "outputs": [
    {
     "data": {
      "text/plain": [
       "(~(int(<number>) <= -10) and str(<function>) == 'sqrt')"
      ]
     },
     "execution_count": 11,
     "metadata": {},
     "output_type": "execute_result"
    }
   ],
   "source": [
    "test_constraint"
   ]
  },
  {
   "cell_type": "code",
   "execution_count": 12,
   "id": "129923a2450978fb",
   "metadata": {
    "ExecuteTime": {
     "end_time": "2024-12-13T10:28:07.395333Z",
     "start_time": "2024-12-13T10:28:07.366225Z"
    }
   },
   "outputs": [],
   "source": [
    "fandango = Fandango(grammar, [test_constraint], desired_solutions=100)\n",
    "solutions = fandango.evolve()"
   ]
  },
  {
   "cell_type": "code",
   "execution_count": 13,
   "id": "b90690c2b3f379b3",
   "metadata": {
    "ExecuteTime": {
     "end_time": "2024-12-13T10:28:07.688267Z",
     "start_time": "2024-12-13T10:28:07.681650Z"
    }
   },
   "outputs": [
    {
     "name": "stdout",
     "output_type": "stream",
     "text": [
      "sqrt(-4)\n",
      "sqrt(-7)\n",
      "sqrt(-3)\n",
      "sqrt(-6)\n",
      "sqrt(-9)\n"
     ]
    }
   ],
   "source": [
    "negated_inputs = {FandangoInput(tree, calculator_oracle(str(tree))) for tree in solutions}\n",
    "\n",
    "new_failing_inputs = {inp for inp in negated_inputs if inp.oracle == OracleResult.FAILING}\n",
    "for inp in new_failing_inputs:\n",
    "    print(inp.tree)"
   ]
  },
  {
   "cell_type": "code",
   "execution_count": 14,
   "id": "b28d689e660d166a",
   "metadata": {
    "ExecuteTime": {
     "end_time": "2024-12-13T10:30:31.093253Z",
     "start_time": "2024-12-13T10:30:27.262858Z"
    }
   },
   "outputs": [
    {
     "name": "stderr",
     "output_type": "stream",
     "text": [
      "fandango-learner:INFO: Instantiated patterns: 18\n",
      "fandango-learner:INFO: Filtered positive inputs for learning: 5\n",
      "fandango-learner:INFO: Found 25 valid conjunctions\n"
     ]
    },
    {
     "name": "stdout",
     "output_type": "stream",
     "text": [
      "(int(<number>) <= -3 and str(<function>) == 'sqrt')\n"
     ]
    }
   ],
   "source": [
    "learner = FandangoLearner(grammar)\n",
    "learned_constraints = learner.learn_constraints(\n",
    "    more_inputs.union(new_failing_inputs),\n",
    "    relevant_non_terminals=relevant_non_terminals\n",
    ")\n",
    "for candidate in learner.get_best_candidates():\n",
    "    print(candidate.constraint)"
   ]
  },
  {
   "cell_type": "markdown",
   "id": "8a7ec57ddeca69c6",
   "metadata": {},
   "source": [
    "We can see that we got much closer to the perfect constraint. However, we still have to refine the constraint further. We can do this by adding more inputs that are not yet distinguished by the learned constraints."
   ]
  },
  {
   "cell_type": "markdown",
   "id": "a0a9715c-100b-4099-aa35-4df82f7c61a2",
   "metadata": {},
   "source": [
    "Now the constraint might say something like `int(<number>) <= -4.0 and str(<function>) == 'sqrt'`. We’re getting closer to a simpler, more accurate constraint that captures the failing behavior: as soon as we try sqrt with any number less than -4, it fails.\n",
    "\n",
    "The refinement loop is about continually challenging and honing our understanding of what causes failures. By incrementally adding test inputs, flipping assumptions, and seeing which constraints still hold, we move from vague, overfitted rules toward constraints that truly represent the underlying pattern of failure.\n",
    "\n",
    "This process can continue until we arrive at constraints that are minimal yet sufficient to explain the observed behavior. In our story, we’ve gone from messy, overly specific constraints to something much clearer and more robust."
   ]
  },
  {
   "cell_type": "markdown",
   "id": "c49e54e6-55e0-4020-923e-0311867f56b8",
   "metadata": {},
   "source": [
    "## Automatically Refining Fandango Constraints"
   ]
  },
  {
   "cell_type": "code",
   "execution_count": 15,
   "id": "67bda611-2917-4367-8c8a-46aab2a33dfe",
   "metadata": {},
   "outputs": [],
   "source": [
    "random.seed(3)\n",
    "from fandangoLearner.refinement.core import FandangoRefinement,LoggerLevel"
   ]
  },
  {
   "cell_type": "code",
   "execution_count": 16,
   "id": "56c35601-ceec-4e21-9867-088a9f6dc48a",
   "metadata": {},
   "outputs": [],
   "source": [
    "fandangoRE = FandangoRefinement(\n",
    "    grammar,\n",
    "    calculator_oracle,\n",
    "    [str(inp) for inp in initial_inputs],\n",
    "    relevant_non_terminals=relevant_non_terminals,\n",
    "    logger_level=LoggerLevel.CRITICAL\n",
    ")"
   ]
  },
  {
   "cell_type": "code",
   "execution_count": 17,
   "id": "9e93e442-35e7-464f-b487-cc2d32aa4aaa",
   "metadata": {},
   "outputs": [],
   "source": [
    "candidates = fandangoRE.explain()"
   ]
  },
  {
   "cell_type": "code",
   "execution_count": 18,
   "id": "502e25a0-2ca1-47ac-b99a-7beabde1deb1",
   "metadata": {},
   "outputs": [
    {
     "name": "stdout",
     "output_type": "stream",
     "text": [
      "(int(<number>) <= -1 and str(<function>) == 'sqrt')\n"
     ]
    }
   ],
   "source": [
    "for candidate in candidates:\n",
    "    print(candidate.constraint)"
   ]
  }
 ],
 "metadata": {
  "kernelspec": {
   "display_name": "Python 3 (ipykernel)",
   "language": "python",
   "name": "python3"
  },
  "language_info": {
   "codemirror_mode": {
    "name": "ipython",
    "version": 3
   },
   "file_extension": ".py",
   "mimetype": "text/x-python",
   "name": "python",
   "nbconvert_exporter": "python",
   "pygments_lexer": "ipython3",
   "version": "3.12.7"
  }
 },
 "nbformat": 4,
 "nbformat_minor": 5
}
